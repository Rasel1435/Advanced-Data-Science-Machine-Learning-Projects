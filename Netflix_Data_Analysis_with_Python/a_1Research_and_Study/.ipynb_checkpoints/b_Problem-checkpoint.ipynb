{
 "cells": [
  {
   "cell_type": "markdown",
   "id": "25e77a76-dc2b-48e9-80e3-ce76fb0aff67",
   "metadata": {},
   "source": [
    "# Netflix Data Analysis with Python\n"
   ]
  },
  {
   "cell_type": "markdown",
   "id": "c29ccd20-6dab-4fe5-91f1-6abd07be0bd7",
   "metadata": {},
   "source": [
    "Netflix is one of the largest providers of online streaming services. It collects a huge amount of data because it has a very large subscriber base. In this article, I’m going to introduce you to a data science project on Netflix data analysis with Python."
   ]
  },
  {
   "cell_type": "markdown",
   "id": "8d54c601-e80c-4337-8947-b7a3c990658e",
   "metadata": {},
   "source": [
    "# Netflix Data Analysis"
   ]
  },
  {
   "cell_type": "markdown",
   "id": "727eb58c-1eba-412f-9544-3c914680c855",
   "metadata": {},
   "source": [
    "We can analyze a lot of data and models from Netflix because this platform has consistently focused on changing business needs by shifting its business model from on-demand DVD movie rental and now focusing a lot about the production of their original shows."
   ]
  },
  {
   "cell_type": "markdown",
   "id": "367226e7-b297-4119-8e45-bb1913aede0e",
   "metadata": {},
   "source": [
    "In this article, I’ll take a look at some very important models of Netflix data to understand what’s best for their business. Some of the most important tasks that we can analyze from Netflix data are:\n",
    "\n",
    "    1. understand what content is available\n",
    "    2. understand the similarities between the content\n",
    "    3. understand the network between actors and directors\n",
    "    4. what exactly Netflix is focusing on\n",
    "    5. and sentiment analysis of content available on Netflix."
   ]
  },
  {
   "cell_type": "markdown",
   "id": "1a35a10e-053a-418d-89cc-cbb006955d23",
   "metadata": {},
   "source": [
    "# Netflix Data Analysis with Python"
   ]
  },
  {
   "cell_type": "markdown",
   "id": "ad2016d3-689a-4e99-b7cb-8c843ddfc7f2",
   "metadata": {},
   "source": [
    "The dataset I use for the Netflix data analytics task consists of TV shows and movies streamed on Netflix as of 2019. The dataset is provided by Flixable which is an engine of third-party research available on Netflix."
   ]
  }
 ],
 "metadata": {
  "kernelspec": {
   "display_name": "Python 3 (ipykernel)",
   "language": "python",
   "name": "python3"
  },
  "language_info": {
   "codemirror_mode": {
    "name": "ipython",
    "version": 3
   },
   "file_extension": ".py",
   "mimetype": "text/x-python",
   "name": "python",
   "nbconvert_exporter": "python",
   "pygments_lexer": "ipython3",
   "version": "3.10.6"
  }
 },
 "nbformat": 4,
 "nbformat_minor": 5
}
