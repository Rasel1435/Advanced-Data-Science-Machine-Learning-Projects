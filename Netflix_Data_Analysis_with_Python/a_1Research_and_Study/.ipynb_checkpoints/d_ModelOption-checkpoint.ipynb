{
 "cells": [
  {
   "cell_type": "markdown",
   "id": "11b97e89-c147-448a-abb0-91eb8518a01c",
   "metadata": {},
   "source": [
    "# Model Option"
   ]
  }
 ],
 "metadata": {
  "kernelspec": {
   "display_name": "Python 3 (ipykernel)",
   "language": "python",
   "name": "python3"
  },
  "language_info": {
   "codemirror_mode": {
    "name": "ipython",
    "version": 3
   },
   "file_extension": ".py",
   "mimetype": "text/x-python",
   "name": "python",
   "nbconvert_exporter": "python",
   "pygments_lexer": "ipython3",
   "version": "3.12.0"
  }
 },
 "nbformat": 4,
 "nbformat_minor": 5
}
