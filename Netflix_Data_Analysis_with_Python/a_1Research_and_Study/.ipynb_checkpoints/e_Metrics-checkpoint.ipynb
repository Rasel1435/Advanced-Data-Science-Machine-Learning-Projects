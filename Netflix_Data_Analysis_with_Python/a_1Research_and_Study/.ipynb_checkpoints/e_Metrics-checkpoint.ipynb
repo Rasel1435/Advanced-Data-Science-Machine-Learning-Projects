{
 "cells": [
  {
   "cell_type": "markdown",
   "id": "e886fd36-3d2b-4dba-a953-14e691f183f6",
   "metadata": {},
   "source": [
    "# Metrics Error will be here"
   ]
  }
 ],
 "metadata": {
  "kernelspec": {
   "display_name": "Python 3 (ipykernel)",
   "language": "python",
   "name": "python3"
  },
  "language_info": {
   "codemirror_mode": {
    "name": "ipython",
    "version": 3
   },
   "file_extension": ".py",
   "mimetype": "text/x-python",
   "name": "python",
   "nbconvert_exporter": "python",
   "pygments_lexer": "ipython3",
   "version": "3.12.0"
  }
 },
 "nbformat": 4,
 "nbformat_minor": 5
}
