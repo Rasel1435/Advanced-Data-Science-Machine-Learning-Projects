{
 "cells": [
  {
   "cell_type": "markdown",
   "id": "cf4a993f-fdd9-4b87-98e0-3a25d278b950",
   "metadata": {},
   "source": [
    "# Import Necessary libraries"
   ]
  },
  {
   "cell_type": "code",
   "execution_count": 57,
   "id": "344c2d90-753c-4e70-858a-1aedf1246fb3",
   "metadata": {},
   "outputs": [],
   "source": [
    "import pandas as pd\n",
    "import numpy as np\n",
    "import seaborn as sns\n",
    "import matplotlib.pyplot as plt"
   ]
  },
  {
   "cell_type": "code",
   "execution_count": 58,
   "id": "0a847d7d-4fd3-4217-968c-b5a69aa24913",
   "metadata": {},
   "outputs": [
    {
     "data": {
      "text/html": [
       "<div>\n",
       "<style scoped>\n",
       "    .dataframe tbody tr th:only-of-type {\n",
       "        vertical-align: middle;\n",
       "    }\n",
       "\n",
       "    .dataframe tbody tr th {\n",
       "        vertical-align: top;\n",
       "    }\n",
       "\n",
       "    .dataframe thead th {\n",
       "        text-align: right;\n",
       "    }\n",
       "</style>\n",
       "<table border=\"1\" class=\"dataframe\">\n",
       "  <thead>\n",
       "    <tr style=\"text-align: right;\">\n",
       "      <th></th>\n",
       "      <th>carwidth</th>\n",
       "      <th>horsepower</th>\n",
       "      <th>highwaympg</th>\n",
       "      <th>enginesize</th>\n",
       "      <th>carwidth.1</th>\n",
       "      <th>citympg</th>\n",
       "      <th>car_width_length</th>\n",
       "      <th>price</th>\n",
       "    </tr>\n",
       "  </thead>\n",
       "  <tbody>\n",
       "    <tr>\n",
       "      <th>0</th>\n",
       "      <td>-0.344739</td>\n",
       "      <td>0.146982</td>\n",
       "      <td>-0.041203</td>\n",
       "      <td>-0.519295</td>\n",
       "      <td>-0.344739</td>\n",
       "      <td>-0.302908</td>\n",
       "      <td>-0.238834</td>\n",
       "      <td>9279.0</td>\n",
       "    </tr>\n",
       "    <tr>\n",
       "      <th>1</th>\n",
       "      <td>1.575951</td>\n",
       "      <td>1.472374</td>\n",
       "      <td>-1.724634</td>\n",
       "      <td>3.233281</td>\n",
       "      <td>1.575951</td>\n",
       "      <td>-1.601976</td>\n",
       "      <td>1.973919</td>\n",
       "      <td>22563.0</td>\n",
       "    </tr>\n",
       "    <tr>\n",
       "      <th>2</th>\n",
       "      <td>-0.299009</td>\n",
       "      <td>-0.206455</td>\n",
       "      <td>0.264875</td>\n",
       "      <td>-0.544650</td>\n",
       "      <td>-0.299009</td>\n",
       "      <td>0.184243</td>\n",
       "      <td>-0.282496</td>\n",
       "      <td>9995.0</td>\n",
       "    </tr>\n",
       "    <tr>\n",
       "      <th>3</th>\n",
       "      <td>-0.344739</td>\n",
       "      <td>0.036533</td>\n",
       "      <td>-0.194242</td>\n",
       "      <td>-0.570005</td>\n",
       "      <td>-0.344739</td>\n",
       "      <td>-0.140524</td>\n",
       "      <td>-0.267936</td>\n",
       "      <td>11259.0</td>\n",
       "    </tr>\n",
       "    <tr>\n",
       "      <th>4</th>\n",
       "      <td>0.158299</td>\n",
       "      <td>1.030577</td>\n",
       "      <td>-0.959438</td>\n",
       "      <td>0.773822</td>\n",
       "      <td>0.158299</td>\n",
       "      <td>-0.952442</td>\n",
       "      <td>0.940990</td>\n",
       "      <td>15750.0</td>\n",
       "    </tr>\n",
       "  </tbody>\n",
       "</table>\n",
       "</div>"
      ],
      "text/plain": [
       "   carwidth  horsepower  highwaympg  enginesize  carwidth.1   citympg  \\\n",
       "0 -0.344739    0.146982   -0.041203   -0.519295   -0.344739 -0.302908   \n",
       "1  1.575951    1.472374   -1.724634    3.233281    1.575951 -1.601976   \n",
       "2 -0.299009   -0.206455    0.264875   -0.544650   -0.299009  0.184243   \n",
       "3 -0.344739    0.036533   -0.194242   -0.570005   -0.344739 -0.140524   \n",
       "4  0.158299    1.030577   -0.959438    0.773822    0.158299 -0.952442   \n",
       "\n",
       "   car_width_length    price  \n",
       "0         -0.238834   9279.0  \n",
       "1          1.973919  22563.0  \n",
       "2         -0.282496   9995.0  \n",
       "3         -0.267936  11259.0  \n",
       "4          0.940990  15750.0  "
      ]
     },
     "execution_count": 58,
     "metadata": {},
     "output_type": "execute_result"
    }
   ],
   "source": [
    "# Load \n",
    "df = pd.read_csv('../data/train_v5.csv')\n",
    "df.head()"
   ]
  },
  {
   "cell_type": "markdown",
   "id": "e19cbe00-7d6f-46bc-95bc-780f1e568de4",
   "metadata": {},
   "source": [
    "# Principal Component Analysis (PCA) "
   ]
  },
  {
   "cell_type": "code",
   "execution_count": 59,
   "id": "fd03473d-cd25-4dc8-afd7-a73ceb9588fa",
   "metadata": {},
   "outputs": [
    {
     "data": {
      "text/html": [
       "<style>#sk-container-id-4 {color: black;}#sk-container-id-4 pre{padding: 0;}#sk-container-id-4 div.sk-toggleable {background-color: white;}#sk-container-id-4 label.sk-toggleable__label {cursor: pointer;display: block;width: 100%;margin-bottom: 0;padding: 0.3em;box-sizing: border-box;text-align: center;}#sk-container-id-4 label.sk-toggleable__label-arrow:before {content: \"▸\";float: left;margin-right: 0.25em;color: #696969;}#sk-container-id-4 label.sk-toggleable__label-arrow:hover:before {color: black;}#sk-container-id-4 div.sk-estimator:hover label.sk-toggleable__label-arrow:before {color: black;}#sk-container-id-4 div.sk-toggleable__content {max-height: 0;max-width: 0;overflow: hidden;text-align: left;background-color: #f0f8ff;}#sk-container-id-4 div.sk-toggleable__content pre {margin: 0.2em;color: black;border-radius: 0.25em;background-color: #f0f8ff;}#sk-container-id-4 input.sk-toggleable__control:checked~div.sk-toggleable__content {max-height: 200px;max-width: 100%;overflow: auto;}#sk-container-id-4 input.sk-toggleable__control:checked~label.sk-toggleable__label-arrow:before {content: \"▾\";}#sk-container-id-4 div.sk-estimator input.sk-toggleable__control:checked~label.sk-toggleable__label {background-color: #d4ebff;}#sk-container-id-4 div.sk-label input.sk-toggleable__control:checked~label.sk-toggleable__label {background-color: #d4ebff;}#sk-container-id-4 input.sk-hidden--visually {border: 0;clip: rect(1px 1px 1px 1px);clip: rect(1px, 1px, 1px, 1px);height: 1px;margin: -1px;overflow: hidden;padding: 0;position: absolute;width: 1px;}#sk-container-id-4 div.sk-estimator {font-family: monospace;background-color: #f0f8ff;border: 1px dotted black;border-radius: 0.25em;box-sizing: border-box;margin-bottom: 0.5em;}#sk-container-id-4 div.sk-estimator:hover {background-color: #d4ebff;}#sk-container-id-4 div.sk-parallel-item::after {content: \"\";width: 100%;border-bottom: 1px solid gray;flex-grow: 1;}#sk-container-id-4 div.sk-label:hover label.sk-toggleable__label {background-color: #d4ebff;}#sk-container-id-4 div.sk-serial::before {content: \"\";position: absolute;border-left: 1px solid gray;box-sizing: border-box;top: 0;bottom: 0;left: 50%;z-index: 0;}#sk-container-id-4 div.sk-serial {display: flex;flex-direction: column;align-items: center;background-color: white;padding-right: 0.2em;padding-left: 0.2em;position: relative;}#sk-container-id-4 div.sk-item {position: relative;z-index: 1;}#sk-container-id-4 div.sk-parallel {display: flex;align-items: stretch;justify-content: center;background-color: white;position: relative;}#sk-container-id-4 div.sk-item::before, #sk-container-id-4 div.sk-parallel-item::before {content: \"\";position: absolute;border-left: 1px solid gray;box-sizing: border-box;top: 0;bottom: 0;left: 50%;z-index: -1;}#sk-container-id-4 div.sk-parallel-item {display: flex;flex-direction: column;z-index: 1;position: relative;background-color: white;}#sk-container-id-4 div.sk-parallel-item:first-child::after {align-self: flex-end;width: 50%;}#sk-container-id-4 div.sk-parallel-item:last-child::after {align-self: flex-start;width: 50%;}#sk-container-id-4 div.sk-parallel-item:only-child::after {width: 0;}#sk-container-id-4 div.sk-dashed-wrapped {border: 1px dashed gray;margin: 0 0.4em 0.5em 0.4em;box-sizing: border-box;padding-bottom: 0.4em;background-color: white;}#sk-container-id-4 div.sk-label label {font-family: monospace;font-weight: bold;display: inline-block;line-height: 1.2em;}#sk-container-id-4 div.sk-label-container {text-align: center;}#sk-container-id-4 div.sk-container {/* jupyter's `normalize.less` sets `[hidden] { display: none; }` but bootstrap.min.css set `[hidden] { display: none !important; }` so we also need the `!important` here to be able to override the default hidden behavior on the sphinx rendered scikit-learn.org. See: https://github.com/scikit-learn/scikit-learn/issues/21755 */display: inline-block !important;position: relative;}#sk-container-id-4 div.sk-text-repr-fallback {display: none;}</style><div id=\"sk-container-id-4\" class=\"sk-top-container\"><div class=\"sk-text-repr-fallback\"><pre>PCA(n_components=2, random_state=33)</pre><b>In a Jupyter environment, please rerun this cell to show the HTML representation or trust the notebook. <br />On GitHub, the HTML representation is unable to render, please try loading this page with nbviewer.org.</b></div><div class=\"sk-container\" hidden><div class=\"sk-item\"><div class=\"sk-estimator sk-toggleable\"><input class=\"sk-toggleable__control sk-hidden--visually\" id=\"sk-estimator-id-4\" type=\"checkbox\" checked><label for=\"sk-estimator-id-4\" class=\"sk-toggleable__label sk-toggleable__label-arrow\">PCA</label><div class=\"sk-toggleable__content\"><pre>PCA(n_components=2, random_state=33)</pre></div></div></div></div></div>"
      ],
      "text/plain": [
       "PCA(n_components=2, random_state=33)"
      ]
     },
     "execution_count": 59,
     "metadata": {},
     "output_type": "execute_result"
    }
   ],
   "source": [
    "reducer = PCA(\n",
    "    n_components=2,\n",
    "    copy=True,\n",
    "    whiten=False,\n",
    "    svd_solver='auto',\n",
    "    tol=0.0,\n",
    "    iterated_power='auto',\n",
    "    n_oversamples=10,\n",
    "    power_iteration_normalizer='auto',\n",
    "    random_state=33,\n",
    ")\n",
    "reducer"
   ]
  },
  {
   "cell_type": "code",
   "execution_count": 32,
   "id": "9fed8e37-0201-4255-9609-fbbe9b3aa140",
   "metadata": {},
   "outputs": [],
   "source": [
    "# Extract features and target variable"
   ]
  },
  {
   "cell_type": "code",
   "execution_count": 60,
   "id": "0dae021b-297d-409c-bf65-f5383c1bcc94",
   "metadata": {},
   "outputs": [],
   "source": [
    "features = df.drop(columns=['price'])\n",
    "target = df['price']"
   ]
  },
  {
   "cell_type": "code",
   "execution_count": 50,
   "id": "0fa9f289-45c4-490f-a668-08e27b08b3da",
   "metadata": {},
   "outputs": [],
   "source": [
    "# Perform PCA for dimensionality reduction"
   ]
  },
  {
   "cell_type": "code",
   "execution_count": 61,
   "id": "257ad9f7-5325-447f-84c7-822228da5968",
   "metadata": {},
   "outputs": [],
   "source": [
    "pca = PCA(n_components=2)\n",
    "features_reduced = pca.fit_transform(features)"
   ]
  },
  {
   "cell_type": "code",
   "execution_count": 36,
   "id": "116ffcb9-cce8-45e3-8ae4-034b669464c7",
   "metadata": {},
   "outputs": [],
   "source": [
    "# Combine reduced features with the target variable for plotting"
   ]
  },
  {
   "cell_type": "code",
   "execution_count": 62,
   "id": "cb3a8c57-9899-4d43-9f07-2c3a58dbd422",
   "metadata": {},
   "outputs": [
    {
     "data": {
      "text/html": [
       "<div>\n",
       "<style scoped>\n",
       "    .dataframe tbody tr th:only-of-type {\n",
       "        vertical-align: middle;\n",
       "    }\n",
       "\n",
       "    .dataframe tbody tr th {\n",
       "        vertical-align: top;\n",
       "    }\n",
       "\n",
       "    .dataframe thead th {\n",
       "        text-align: right;\n",
       "    }\n",
       "</style>\n",
       "<table border=\"1\" class=\"dataframe\">\n",
       "  <thead>\n",
       "    <tr style=\"text-align: right;\">\n",
       "      <th></th>\n",
       "      <th>PC1</th>\n",
       "      <th>PC2</th>\n",
       "      <th>price</th>\n",
       "    </tr>\n",
       "  </thead>\n",
       "  <tbody>\n",
       "    <tr>\n",
       "      <th>0</th>\n",
       "      <td>-0.366039</td>\n",
       "      <td>0.476383</td>\n",
       "      <td>9279.0</td>\n",
       "    </tr>\n",
       "    <tr>\n",
       "      <th>1</th>\n",
       "      <td>4.970104</td>\n",
       "      <td>0.268790</td>\n",
       "      <td>22563.0</td>\n",
       "    </tr>\n",
       "    <tr>\n",
       "      <th>2</th>\n",
       "      <td>-0.786730</td>\n",
       "      <td>0.023457</td>\n",
       "      <td>9995.0</td>\n",
       "    </tr>\n",
       "    <tr>\n",
       "      <th>3</th>\n",
       "      <td>-0.441181</td>\n",
       "      <td>0.414536</td>\n",
       "      <td>11259.0</td>\n",
       "    </tr>\n",
       "    <tr>\n",
       "      <th>4</th>\n",
       "      <td>1.863872</td>\n",
       "      <td>0.750249</td>\n",
       "      <td>15750.0</td>\n",
       "    </tr>\n",
       "  </tbody>\n",
       "</table>\n",
       "</div>"
      ],
      "text/plain": [
       "        PC1       PC2    price\n",
       "0 -0.366039  0.476383   9279.0\n",
       "1  4.970104  0.268790  22563.0\n",
       "2 -0.786730  0.023457   9995.0\n",
       "3 -0.441181  0.414536  11259.0\n",
       "4  1.863872  0.750249  15750.0"
      ]
     },
     "execution_count": 62,
     "metadata": {},
     "output_type": "execute_result"
    }
   ],
   "source": [
    "reduced_df = pd.DataFrame({'PC1': features_reduced[:, 0], 'PC2': features_reduced[:, 1], 'price': target})\n",
    "reduced_df.head()"
   ]
  },
  {
   "cell_type": "code",
   "execution_count": 38,
   "id": "2b11dc28-fa00-49be-b2fa-c00ef68272cd",
   "metadata": {},
   "outputs": [],
   "source": [
    "# Plot the reduced features against the price"
   ]
  },
  {
   "cell_type": "code",
   "execution_count": 63,
   "id": "5eda91b3-b996-4208-bb0f-6eeb7a92b73f",
   "metadata": {
    "scrolled": true
   },
   "outputs": [
    {
     "data": {
      "image/png": "[encoded data removed]",
      "text/plain": [
       "<Figure size 640x480 with 1 Axes>"
      ]
     },
     "metadata": {},
     "output_type": "display_data"
    }
   ],
   "source": [
    "sns.scatterplot(x='PC1', y='PC2', data=reduced_df, hue='price', palette='viridis')\n",
    "plt.title('Reduced Features vs. Price')\n",
    "plt.show()"
   ]
  },
  {
   "cell_type": "code",
   "execution_count": 68,
   "id": "ef75bdf2-1519-481c-82a4-cc53992e8a92",
   "metadata": {},
   "outputs": [],
   "source": [
    "sns.scatterplot(x=reducer.transform(features).ravel(), y=df.price)"
   ]
  },
  {
   "cell_type": "code",
   "execution_count": 69,
   "id": "e6c12720-bc75-40aa-a2ec-bbd9eb9a8fb6",
   "metadata": {},
   "outputs": [
    {
     "data": {
      "text/plain": [
       "(52, 3)"
      ]
     },
     "execution_count": 69,
     "metadata": {},
     "output_type": "execute_result"
    }
   ],
   "source": [
    "componenets.shape"
   ]
  },
  {
   "cell_type": "code",
   "execution_count": null,
   "id": "4143d956-c7ed-4f6f-9791-08aae74f4129",
   "metadata": {},
   "outputs": [],
   "source": []
  },
  {
   "cell_type": "code",
   "execution_count": null,
   "id": "61067739-7f96-436c-a28f-a354e8dd33f4",
   "metadata": {},
   "outputs": [],
   "source": []
  },
  {
   "cell_type": "code",
   "execution_count": 47,
   "id": "bc357388-688b-4a81-87db-83c653d0a9ea",
   "metadata": {},
   "outputs": [],
   "source": [
    "reduced_df.to_csv('../data/train_v6.csv', index=False)"
   ]
  }
 ],
 "metadata": {
  "kernelspec": {
   "display_name": "Python 3 (ipykernel)",
   "language": "python",
   "name": "python3"
  },
  "language_info": {
   "codemirror_mode": {
    "name": "ipython",
    "version": 3
   },
   "file_extension": ".py",
   "mimetype": "text/x-python",
   "name": "python",
   "nbconvert_exporter": "python",
   "pygments_lexer": "ipython3",
   "version": "3.12.0"
  }
 },
 "nbformat": 4,
 "nbformat_minor": 5
}
